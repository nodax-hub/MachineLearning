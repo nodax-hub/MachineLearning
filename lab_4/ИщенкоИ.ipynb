{
 "cells": [
  {
   "cell_type": "markdown",
   "id": "95702cc17dda1d94",
   "metadata": {},
   "source": [
    "# Лабораторная работа 4\n",
    "\n",
    "## Нейронные сети\n",
    "\n",
    "## Задание\n",
    "1. Вам необходимо реализовать все объявленные методы в папке **mla**.\n",
    "2. Вам необходимо реализовать класс NeuralNet используя методы из папки **mla** в ячейке 1.\n",
    "3. Проверить работу на синтетических данных в ячейке 2.\n",
    "4. Создать нейросеть и подобрать ее архитектуру и параметры для датасета из **вашего варианта** в ячейке 3.\n",
    "5. Проверить работу и точность с помощью заранее объявленной строки в ячейке 3 - `assert roc_auc_score(y_test_onehot[:, 0], predictions[:, 0]) >= 0.8`\n"
   ]
  },
  {
   "cell_type": "code",
   "id": "7dfc984bd20c41e5",
   "metadata": {
    "ExecuteTime": {
     "end_time": "2024-12-23T18:04:39.776674Z",
     "start_time": "2024-12-23T18:04:39.532248Z"
    }
   },
   "source": "from lab_4.mla.neuralnet import NeuralNet",
   "outputs": [],
   "execution_count": 1
  },
  {
   "cell_type": "code",
   "id": "6b83b10a7e14ea21",
   "metadata": {
    "ExecuteTime": {
     "end_time": "2024-12-23T18:04:41.042317Z",
     "start_time": "2024-12-23T18:04:39.782349Z"
    }
   },
   "source": [
    "from sklearn.datasets import make_classification\n",
    "from sklearn.model_selection import train_test_split\n",
    "\n",
    "X, y = make_classification(\n",
    "    n_samples=750, n_features=10, n_informative=8, random_state=1111, n_classes=2, class_sep=2.5, n_redundant=0\n",
    ")\n",
    "X_train, X_test, y_train, y_test = train_test_split(X, y, test_size=0.12, random_state=1111)"
   ],
   "outputs": [],
   "execution_count": 2
  },
  {
   "metadata": {
    "ExecuteTime": {
     "end_time": "2024-12-23T18:04:44.586454Z",
     "start_time": "2024-12-23T18:04:41.309468Z"
    }
   },
   "cell_type": "code",
   "source": [
    "# Проверка работы\n",
    "from mla.basic import Dense, Activation, Dropout\n",
    "from mla.parameters import Parameters\n",
    "from mla.constraints import MaxNorm\n",
    "from mla.regularizers import L2\n",
    "from mla.optimizers import Adadelta, Adam\n",
    "from mla.utils import one_hot\n",
    "\n",
    "from sklearn.metrics import roc_auc_score\n",
    "\n",
    "y_train_onehot = one_hot(y_train)\n",
    "y_test_onehot = one_hot(y_test)\n",
    "\n",
    "model = NeuralNet(\n",
    "    layers=[\n",
    "        Dense(256, Parameters(init_name=\"uniform\", regularizers={\"W\": L2(0.05)})),\n",
    "        Activation(\"relu\"),\n",
    "        Dropout(0.5),\n",
    "        Dense(128, Parameters(init_name=\"normal\", constraints={\"W\": MaxNorm()})),\n",
    "        Activation(\"relu\"),\n",
    "        Dense(2),\n",
    "        Activation(\"softmax\"),\n",
    "    ],\n",
    "    loss_name=\"categorical_crossentropy\",\n",
    "    optimizer=Adadelta(),\n",
    "    metric_name=\"accuracy\",\n",
    "    batch_size=64,\n",
    "    max_epochs=25,\n",
    ")\n",
    "model.fit(X_train, y_train_onehot)\n",
    "predictions = model.predict(X_test)\n",
    "assert roc_auc_score(y_test_onehot[:, 0], predictions[:, 0]) >= 0.95"
   ],
   "id": "5ccd97e9780a91a3",
   "outputs": [
    {
     "data": {
      "text/plain": [
       "  0%|          | 0/25 [00:00<?, ?it/s]"
      ],
      "application/vnd.jupyter.widget-view+json": {
       "version_major": 2,
       "version_minor": 0,
       "model_id": "bb3671bef72c461f903782ec54d6c8c8"
      }
     },
     "metadata": {},
     "output_type": "display_data"
    }
   ],
   "execution_count": 3
  },
  {
   "metadata": {
    "ExecuteTime": {
     "end_time": "2024-12-23T18:04:44.612980Z",
     "start_time": "2024-12-23T18:04:44.606091Z"
    }
   },
   "cell_type": "code",
   "source": "roc_auc_score(y_test_onehot[:, 0], predictions[:, 0])",
   "id": "e95cf14291adfcd9",
   "outputs": [
    {
     "data": {
      "text/plain": [
       "1.0"
      ]
     },
     "execution_count": 4,
     "metadata": {},
     "output_type": "execute_result"
    }
   ],
   "execution_count": 4
  },
  {
   "metadata": {
    "ExecuteTime": {
     "end_time": "2024-12-23T18:32:32.355649Z",
     "start_time": "2024-12-23T18:32:32.341358Z"
    }
   },
   "cell_type": "code",
   "source": [
    "import pandas as pd\n",
    "\n",
    "# Загрузка данных\n",
    "data = pd.read_csv('Diabetes Binary Classification.csv')\n",
    "data"
   ],
   "id": "4fc26573a00b2124",
   "outputs": [
    {
     "data": {
      "text/plain": [
       "     Number of times pregnant  \\\n",
       "0                           6   \n",
       "1                           1   \n",
       "2                           8   \n",
       "3                           1   \n",
       "4                           0   \n",
       "..                        ...   \n",
       "763                        10   \n",
       "764                         2   \n",
       "765                         5   \n",
       "766                         1   \n",
       "767                         1   \n",
       "\n",
       "     Plasma glucose concentration a 2 hours in an oral glucose tolerance test  \\\n",
       "0                                                  148                          \n",
       "1                                                   85                          \n",
       "2                                                  183                          \n",
       "3                                                   89                          \n",
       "4                                                  137                          \n",
       "..                                                 ...                          \n",
       "763                                                101                          \n",
       "764                                                122                          \n",
       "765                                                121                          \n",
       "766                                                126                          \n",
       "767                                                 93                          \n",
       "\n",
       "     Diastolic blood pressure (mm Hg)  Triceps skin fold thickness (mm)  \\\n",
       "0                                  72                                35   \n",
       "1                                  66                                29   \n",
       "2                                  64                                 0   \n",
       "3                                  66                                23   \n",
       "4                                  40                                35   \n",
       "..                                ...                               ...   \n",
       "763                                76                                48   \n",
       "764                                70                                27   \n",
       "765                                72                                23   \n",
       "766                                60                                 0   \n",
       "767                                70                                31   \n",
       "\n",
       "     2-Hour serum insulin (mu U/ml)  \\\n",
       "0                                 0   \n",
       "1                                 0   \n",
       "2                                 0   \n",
       "3                                94   \n",
       "4                               168   \n",
       "..                              ...   \n",
       "763                             180   \n",
       "764                               0   \n",
       "765                             112   \n",
       "766                               0   \n",
       "767                               0   \n",
       "\n",
       "     Body mass index (weight in kg/(height in m)^2)  \\\n",
       "0                                              33.6   \n",
       "1                                              26.6   \n",
       "2                                              23.3   \n",
       "3                                              28.1   \n",
       "4                                              43.1   \n",
       "..                                              ...   \n",
       "763                                            32.9   \n",
       "764                                            36.8   \n",
       "765                                            26.2   \n",
       "766                                            30.1   \n",
       "767                                            30.4   \n",
       "\n",
       "     Diabetes pedigree function  Age (years)  Class variable (0 or 1)  \n",
       "0                         0.627           50                        1  \n",
       "1                         0.351           31                        0  \n",
       "2                         0.672           32                        1  \n",
       "3                         0.167           21                        0  \n",
       "4                         2.288           33                        1  \n",
       "..                          ...          ...                      ...  \n",
       "763                       0.171           63                        0  \n",
       "764                       0.340           27                        0  \n",
       "765                       0.245           30                        0  \n",
       "766                       0.349           47                        1  \n",
       "767                       0.315           23                        0  \n",
       "\n",
       "[768 rows x 9 columns]"
      ],
      "text/html": [
       "<div>\n",
       "<style scoped>\n",
       "    .dataframe tbody tr th:only-of-type {\n",
       "        vertical-align: middle;\n",
       "    }\n",
       "\n",
       "    .dataframe tbody tr th {\n",
       "        vertical-align: top;\n",
       "    }\n",
       "\n",
       "    .dataframe thead th {\n",
       "        text-align: right;\n",
       "    }\n",
       "</style>\n",
       "<table border=\"1\" class=\"dataframe\">\n",
       "  <thead>\n",
       "    <tr style=\"text-align: right;\">\n",
       "      <th></th>\n",
       "      <th>Number of times pregnant</th>\n",
       "      <th>Plasma glucose concentration a 2 hours in an oral glucose tolerance test</th>\n",
       "      <th>Diastolic blood pressure (mm Hg)</th>\n",
       "      <th>Triceps skin fold thickness (mm)</th>\n",
       "      <th>2-Hour serum insulin (mu U/ml)</th>\n",
       "      <th>Body mass index (weight in kg/(height in m)^2)</th>\n",
       "      <th>Diabetes pedigree function</th>\n",
       "      <th>Age (years)</th>\n",
       "      <th>Class variable (0 or 1)</th>\n",
       "    </tr>\n",
       "  </thead>\n",
       "  <tbody>\n",
       "    <tr>\n",
       "      <th>0</th>\n",
       "      <td>6</td>\n",
       "      <td>148</td>\n",
       "      <td>72</td>\n",
       "      <td>35</td>\n",
       "      <td>0</td>\n",
       "      <td>33.6</td>\n",
       "      <td>0.627</td>\n",
       "      <td>50</td>\n",
       "      <td>1</td>\n",
       "    </tr>\n",
       "    <tr>\n",
       "      <th>1</th>\n",
       "      <td>1</td>\n",
       "      <td>85</td>\n",
       "      <td>66</td>\n",
       "      <td>29</td>\n",
       "      <td>0</td>\n",
       "      <td>26.6</td>\n",
       "      <td>0.351</td>\n",
       "      <td>31</td>\n",
       "      <td>0</td>\n",
       "    </tr>\n",
       "    <tr>\n",
       "      <th>2</th>\n",
       "      <td>8</td>\n",
       "      <td>183</td>\n",
       "      <td>64</td>\n",
       "      <td>0</td>\n",
       "      <td>0</td>\n",
       "      <td>23.3</td>\n",
       "      <td>0.672</td>\n",
       "      <td>32</td>\n",
       "      <td>1</td>\n",
       "    </tr>\n",
       "    <tr>\n",
       "      <th>3</th>\n",
       "      <td>1</td>\n",
       "      <td>89</td>\n",
       "      <td>66</td>\n",
       "      <td>23</td>\n",
       "      <td>94</td>\n",
       "      <td>28.1</td>\n",
       "      <td>0.167</td>\n",
       "      <td>21</td>\n",
       "      <td>0</td>\n",
       "    </tr>\n",
       "    <tr>\n",
       "      <th>4</th>\n",
       "      <td>0</td>\n",
       "      <td>137</td>\n",
       "      <td>40</td>\n",
       "      <td>35</td>\n",
       "      <td>168</td>\n",
       "      <td>43.1</td>\n",
       "      <td>2.288</td>\n",
       "      <td>33</td>\n",
       "      <td>1</td>\n",
       "    </tr>\n",
       "    <tr>\n",
       "      <th>...</th>\n",
       "      <td>...</td>\n",
       "      <td>...</td>\n",
       "      <td>...</td>\n",
       "      <td>...</td>\n",
       "      <td>...</td>\n",
       "      <td>...</td>\n",
       "      <td>...</td>\n",
       "      <td>...</td>\n",
       "      <td>...</td>\n",
       "    </tr>\n",
       "    <tr>\n",
       "      <th>763</th>\n",
       "      <td>10</td>\n",
       "      <td>101</td>\n",
       "      <td>76</td>\n",
       "      <td>48</td>\n",
       "      <td>180</td>\n",
       "      <td>32.9</td>\n",
       "      <td>0.171</td>\n",
       "      <td>63</td>\n",
       "      <td>0</td>\n",
       "    </tr>\n",
       "    <tr>\n",
       "      <th>764</th>\n",
       "      <td>2</td>\n",
       "      <td>122</td>\n",
       "      <td>70</td>\n",
       "      <td>27</td>\n",
       "      <td>0</td>\n",
       "      <td>36.8</td>\n",
       "      <td>0.340</td>\n",
       "      <td>27</td>\n",
       "      <td>0</td>\n",
       "    </tr>\n",
       "    <tr>\n",
       "      <th>765</th>\n",
       "      <td>5</td>\n",
       "      <td>121</td>\n",
       "      <td>72</td>\n",
       "      <td>23</td>\n",
       "      <td>112</td>\n",
       "      <td>26.2</td>\n",
       "      <td>0.245</td>\n",
       "      <td>30</td>\n",
       "      <td>0</td>\n",
       "    </tr>\n",
       "    <tr>\n",
       "      <th>766</th>\n",
       "      <td>1</td>\n",
       "      <td>126</td>\n",
       "      <td>60</td>\n",
       "      <td>0</td>\n",
       "      <td>0</td>\n",
       "      <td>30.1</td>\n",
       "      <td>0.349</td>\n",
       "      <td>47</td>\n",
       "      <td>1</td>\n",
       "    </tr>\n",
       "    <tr>\n",
       "      <th>767</th>\n",
       "      <td>1</td>\n",
       "      <td>93</td>\n",
       "      <td>70</td>\n",
       "      <td>31</td>\n",
       "      <td>0</td>\n",
       "      <td>30.4</td>\n",
       "      <td>0.315</td>\n",
       "      <td>23</td>\n",
       "      <td>0</td>\n",
       "    </tr>\n",
       "  </tbody>\n",
       "</table>\n",
       "<p>768 rows × 9 columns</p>\n",
       "</div>"
      ]
     },
     "execution_count": 20,
     "metadata": {},
     "output_type": "execute_result"
    }
   ],
   "execution_count": 20
  },
  {
   "metadata": {
    "ExecuteTime": {
     "end_time": "2024-12-23T18:32:32.952722Z",
     "start_time": "2024-12-23T18:32:32.946459Z"
    }
   },
   "cell_type": "code",
   "source": [
    "# Разделение данных на признаки и целевую переменную\n",
    "X = data.iloc[:, :-1].values\n",
    "y = data.iloc[:, -1].values\n",
    "\n",
    "# Разделение на обучающую и тестовую выборки\n",
    "X_train, X_test, y_train, y_test = train_test_split(X, y, test_size=0.2, random_state=42)\n",
    "\n",
    "# Преобразование целевой переменной в one-hot представление\n",
    "y_train_onehot = one_hot(y_train)\n",
    "y_test_onehot = one_hot(y_test)"
   ],
   "id": "fb369ac1d1b8af17",
   "outputs": [],
   "execution_count": 21
  },
  {
   "metadata": {
    "ExecuteTime": {
     "end_time": "2024-12-23T18:36:59.363712Z",
     "start_time": "2024-12-23T18:36:57.699970Z"
    }
   },
   "cell_type": "code",
   "source": [
    "# Создание модели\n",
    "model = NeuralNet(\n",
    "    layers=[\n",
    "        Dense(128, Parameters(init_name=\"uniform\", regularizers={\"W\": L2(0.01)})),\n",
    "        Activation(\"leakyrelu\"),\n",
    "        Dropout(0.5),\n",
    "        Dense(64, Parameters(init_name=\"normal\", constraints={\"W\": MaxNorm()})),\n",
    "        Activation(\"leakyrelu\"),\n",
    "        Dense(2),\n",
    "        Activation(\"softmax\"),\n",
    "    ],\n",
    "    loss_name=\"categorical_crossentropy\",\n",
    "    optimizer=Adam(0.1),\n",
    "    metric_name=\"accuracy\",\n",
    "    batch_size=64,\n",
    "    max_epochs=50,\n",
    "    verbose=True\n",
    ")\n",
    "\n",
    "# Обучение модели\n",
    "model.fit(X_train, y_train_onehot)\n",
    "\n",
    "# Предсказания\n",
    "predictions = model.predict(X_test)\n",
    "\n",
    "# Проверка метрики AUC-ROC\n",
    "roc_auc = roc_auc_score(y_test_onehot[:, 0], predictions[:, 0])\n",
    "print(f\"AUC-ROC: {roc_auc:.4f}\")"
   ],
   "id": "7e4f2eb717bbd588",
   "outputs": [
    {
     "data": {
      "text/plain": [
       "  0%|          | 0/50 [00:00<?, ?it/s]"
      ],
      "application/vnd.jupyter.widget-view+json": {
       "version_major": 2,
       "version_minor": 0,
       "model_id": "9ba1c76046604784aca006068f93ceca"
      }
     },
     "metadata": {},
     "output_type": "display_data"
    },
    {
     "name": "stdout",
     "output_type": "stream",
     "text": [
      "AUC-ROC: 0.8108\n"
     ]
    }
   ],
   "execution_count": 24
  },
  {
   "metadata": {
    "ExecuteTime": {
     "end_time": "2024-12-23T18:37:11.811994Z",
     "start_time": "2024-12-23T18:37:11.808531Z"
    }
   },
   "cell_type": "code",
   "source": [
    "# Утверждение, что модель достигает порога качества\n",
    "assert roc_auc >= 0.8, \"Model did not reach the expected ROC-AUC threshold.\""
   ],
   "id": "773fef81c5898e2f",
   "outputs": [],
   "execution_count": 25
  },
  {
   "metadata": {
    "ExecuteTime": {
     "end_time": "2024-12-23T18:23:21.560694Z",
     "start_time": "2024-12-23T18:20:54.960591Z"
    }
   },
   "cell_type": "code",
   "source": [
    "import itertools\n",
    "from sklearn.model_selection import train_test_split\n",
    "from sklearn.metrics import roc_auc_score\n",
    "\n",
    "# Импорт пользовательских классов и функций\n",
    "from mla.basic import Dense, Activation, Dropout\n",
    "from mla.parameters import Parameters\n",
    "from mla.constraints import MaxNorm\n",
    "from mla.regularizers import L2\n",
    "from mla.optimizers import Adadelta, Adam\n",
    "from mla.utils import one_hot\n",
    "from mla.neuralnet import NeuralNet\n",
    "\n",
    "# Загрузка данных\n",
    "data = pd.read_csv('Diabetes Binary Classification.csv')\n",
    "\n",
    "# Разделение данных на признаки и целевую переменную\n",
    "X = data.iloc[:, :-1].values\n",
    "y = data.iloc[:, -1].values\n",
    "\n",
    "# Разделение на обучающую и тестовую выборки\n",
    "X_train, X_test, y_train, y_test = train_test_split(X, y, test_size=0.2, random_state=42)\n",
    "\n",
    "# Преобразование целевой переменной в one-hot представление\n",
    "y_train_onehot = one_hot(y_train)\n",
    "y_test_onehot = one_hot(y_test)\n",
    "\n",
    "# Гиперпараметры для перебора\n",
    "param_grid = {\n",
    "    \"n_neurons\": [128, 256, 512],\n",
    "    \"activation\": [\"relu\", \"leakyrelu\"],\n",
    "    \"dropout\": [0.2, 0.3, 0.5],\n",
    "    \"regularizer\": [0.01, 0.05, 0.1],\n",
    "    \"optimizer\": [Adadelta, Adam],\n",
    "    \"learning_rate\": [0.001, 0.01, 0.1],\n",
    "}\n",
    "\n",
    "best_model = None\n",
    "best_score = 0\n",
    "best_params = {}\n",
    "\n",
    "# Подбор гиперпараметров\n",
    "for params in itertools.product(*param_grid.values()):\n",
    "    n_neurons, activation, dropout, regularizer, optimizer, learning_rate = params\n",
    "\n",
    "    # Создание модели\n",
    "    model = NeuralNet(\n",
    "        layers=[\n",
    "            Dense(n_neurons, Parameters(init_name=\"uniform\", regularizers={\"W\": L2(regularizer)})),\n",
    "            Activation(activation),\n",
    "            Dropout(dropout),\n",
    "            Dense(int(n_neurons / 2), Parameters(init_name=\"normal\", constraints={\"W\": MaxNorm()})),\n",
    "            Activation(activation),\n",
    "            Dense(2),\n",
    "            Activation(\"softmax\"),\n",
    "        ],\n",
    "        loss_name=\"categorical_crossentropy\",\n",
    "        optimizer=optimizer(learning_rate=learning_rate),\n",
    "        metric_name=\"accuracy\",\n",
    "        batch_size=64,\n",
    "        max_epochs=50,\n",
    "        verbose=False,  # Уменьшаем вывод для экономии ресурсов\n",
    "    )\n",
    "\n",
    "    # Обучение модели\n",
    "    model.fit(X_train, y_train_onehot)\n",
    "\n",
    "    # Предсказания\n",
    "    predictions = model.predict(X_test)\n",
    "\n",
    "    # Оценка AUC-ROC\n",
    "    roc_auc = roc_auc_score(y_test_onehot[:, 0], predictions[:, 0])\n",
    "\n",
    "    print(f\"Params: {params}, AUC-ROC: {roc_auc:.4f}\")\n",
    "\n",
    "    if roc_auc > best_score:\n",
    "        best_score = roc_auc\n",
    "        best_model = model\n",
    "        best_params = {\n",
    "            \"n_neurons\": n_neurons,\n",
    "            \"activation\": activation,\n",
    "            \"dropout\": dropout,\n",
    "            \"regularizer\": regularizer,\n",
    "            \"optimizer\": optimizer.__name__,\n",
    "            \"learning_rate\": learning_rate,\n",
    "        }\n",
    "\n",
    "# Итоговый результат\n",
    "print(\"Best Parameters:\", best_params)\n",
    "print(\"Best AUC-ROC:\", best_score)\n"
   ],
   "id": "2b26b362d44b3989",
   "outputs": [
    {
     "name": "stdout",
     "output_type": "stream",
     "text": [
      "Params: (128, 'relu', 0.2, 0.01, <class 'mla.optimizers.Adadelta'>, 0.001), AUC-ROC: 0.3964\n",
      "Params: (128, 'relu', 0.2, 0.01, <class 'mla.optimizers.Adadelta'>, 0.01), AUC-ROC: 0.5028\n",
      "Params: (128, 'relu', 0.2, 0.01, <class 'mla.optimizers.Adadelta'>, 0.1), AUC-ROC: 0.5416\n",
      "Params: (128, 'relu', 0.2, 0.01, <class 'mla.optimizers.Adam'>, 0.001), AUC-ROC: 0.5651\n",
      "Params: (128, 'relu', 0.2, 0.01, <class 'mla.optimizers.Adam'>, 0.01), AUC-ROC: 0.7473\n",
      "Params: (128, 'relu', 0.2, 0.01, <class 'mla.optimizers.Adam'>, 0.1), AUC-ROC: 0.5000\n",
      "Params: (128, 'relu', 0.2, 0.05, <class 'mla.optimizers.Adadelta'>, 0.001), AUC-ROC: 0.5822\n",
      "Params: (128, 'relu', 0.2, 0.05, <class 'mla.optimizers.Adadelta'>, 0.01), AUC-ROC: 0.4057\n",
      "Params: (128, 'relu', 0.2, 0.05, <class 'mla.optimizers.Adadelta'>, 0.1), AUC-ROC: 0.5741\n",
      "Params: (128, 'relu', 0.2, 0.05, <class 'mla.optimizers.Adam'>, 0.001), AUC-ROC: 0.6626\n",
      "Params: (128, 'relu', 0.2, 0.05, <class 'mla.optimizers.Adam'>, 0.01), AUC-ROC: 0.6918\n",
      "Params: (128, 'relu', 0.2, 0.05, <class 'mla.optimizers.Adam'>, 0.1), AUC-ROC: 0.5000\n",
      "Params: (128, 'relu', 0.2, 0.1, <class 'mla.optimizers.Adadelta'>, 0.001), AUC-ROC: 0.5506\n",
      "Params: (128, 'relu', 0.2, 0.1, <class 'mla.optimizers.Adadelta'>, 0.01), AUC-ROC: 0.4387\n",
      "Params: (128, 'relu', 0.2, 0.1, <class 'mla.optimizers.Adadelta'>, 0.1), AUC-ROC: 0.4908\n",
      "Params: (128, 'relu', 0.2, 0.1, <class 'mla.optimizers.Adam'>, 0.001), AUC-ROC: 0.6702\n",
      "Params: (128, 'relu', 0.2, 0.1, <class 'mla.optimizers.Adam'>, 0.01), AUC-ROC: 0.7392\n",
      "Params: (128, 'relu', 0.2, 0.1, <class 'mla.optimizers.Adam'>, 0.1), AUC-ROC: 0.5000\n",
      "Params: (128, 'relu', 0.3, 0.01, <class 'mla.optimizers.Adadelta'>, 0.001), AUC-ROC: 0.5064\n",
      "Params: (128, 'relu', 0.3, 0.01, <class 'mla.optimizers.Adadelta'>, 0.01), AUC-ROC: 0.2815\n",
      "Params: (128, 'relu', 0.3, 0.01, <class 'mla.optimizers.Adadelta'>, 0.1), AUC-ROC: 0.5491\n",
      "Params: (128, 'relu', 0.3, 0.01, <class 'mla.optimizers.Adam'>, 0.001), AUC-ROC: 0.6962\n",
      "Params: (128, 'relu', 0.3, 0.01, <class 'mla.optimizers.Adam'>, 0.01), AUC-ROC: 0.7343\n",
      "Params: (128, 'relu', 0.3, 0.01, <class 'mla.optimizers.Adam'>, 0.1), AUC-ROC: 0.5000\n",
      "Params: (128, 'relu', 0.3, 0.05, <class 'mla.optimizers.Adadelta'>, 0.001), AUC-ROC: 0.5000\n",
      "Params: (128, 'relu', 0.3, 0.05, <class 'mla.optimizers.Adadelta'>, 0.01), AUC-ROC: 0.4154\n",
      "Params: (128, 'relu', 0.3, 0.05, <class 'mla.optimizers.Adadelta'>, 0.1), AUC-ROC: 0.4863\n",
      "Params: (128, 'relu', 0.3, 0.05, <class 'mla.optimizers.Adam'>, 0.001), AUC-ROC: 0.5506\n",
      "Params: (128, 'relu', 0.3, 0.05, <class 'mla.optimizers.Adam'>, 0.01), AUC-ROC: 0.7556\n",
      "Params: (128, 'relu', 0.3, 0.05, <class 'mla.optimizers.Adam'>, 0.1), AUC-ROC: 0.5000\n",
      "Params: (128, 'relu', 0.3, 0.1, <class 'mla.optimizers.Adadelta'>, 0.001), AUC-ROC: 0.5376\n",
      "Params: (128, 'relu', 0.3, 0.1, <class 'mla.optimizers.Adadelta'>, 0.01), AUC-ROC: 0.6317\n",
      "Params: (128, 'relu', 0.3, 0.1, <class 'mla.optimizers.Adadelta'>, 0.1), AUC-ROC: 0.6075\n",
      "Params: (128, 'relu', 0.3, 0.1, <class 'mla.optimizers.Adam'>, 0.001), AUC-ROC: 0.7014\n",
      "Params: (128, 'relu', 0.3, 0.1, <class 'mla.optimizers.Adam'>, 0.01), AUC-ROC: 0.7572\n",
      "Params: (128, 'relu', 0.3, 0.1, <class 'mla.optimizers.Adam'>, 0.1), AUC-ROC: 0.5000\n",
      "Params: (128, 'relu', 0.5, 0.01, <class 'mla.optimizers.Adadelta'>, 0.001), AUC-ROC: 0.3196\n",
      "Params: (128, 'relu', 0.5, 0.01, <class 'mla.optimizers.Adadelta'>, 0.01), AUC-ROC: 0.4848\n",
      "Params: (128, 'relu', 0.5, 0.01, <class 'mla.optimizers.Adadelta'>, 0.1), AUC-ROC: 0.4437\n",
      "Params: (128, 'relu', 0.5, 0.01, <class 'mla.optimizers.Adam'>, 0.001), AUC-ROC: 0.7276\n",
      "Params: (128, 'relu', 0.5, 0.01, <class 'mla.optimizers.Adam'>, 0.01), AUC-ROC: 0.7605\n",
      "Params: (128, 'relu', 0.5, 0.01, <class 'mla.optimizers.Adam'>, 0.1), AUC-ROC: 0.5000\n",
      "Params: (128, 'relu', 0.5, 0.05, <class 'mla.optimizers.Adadelta'>, 0.001), AUC-ROC: 0.6994\n",
      "Params: (128, 'relu', 0.5, 0.05, <class 'mla.optimizers.Adadelta'>, 0.01), AUC-ROC: 0.6103\n",
      "Params: (128, 'relu', 0.5, 0.05, <class 'mla.optimizers.Adadelta'>, 0.1), AUC-ROC: 0.4422\n",
      "Params: (128, 'relu', 0.5, 0.05, <class 'mla.optimizers.Adam'>, 0.001), AUC-ROC: 0.6841\n",
      "Params: (128, 'relu', 0.5, 0.05, <class 'mla.optimizers.Adam'>, 0.01), AUC-ROC: 0.7306\n",
      "Params: (128, 'relu', 0.5, 0.05, <class 'mla.optimizers.Adam'>, 0.1), AUC-ROC: 0.5000\n",
      "Params: (128, 'relu', 0.5, 0.1, <class 'mla.optimizers.Adadelta'>, 0.001), AUC-ROC: 0.5772\n",
      "Params: (128, 'relu', 0.5, 0.1, <class 'mla.optimizers.Adadelta'>, 0.01), AUC-ROC: 0.3868\n",
      "Params: (128, 'relu', 0.5, 0.1, <class 'mla.optimizers.Adadelta'>, 0.1), AUC-ROC: 0.3243\n",
      "Params: (128, 'relu', 0.5, 0.1, <class 'mla.optimizers.Adam'>, 0.001), AUC-ROC: 0.6762\n",
      "Params: (128, 'relu', 0.5, 0.1, <class 'mla.optimizers.Adam'>, 0.01), AUC-ROC: 0.7728\n",
      "Params: (128, 'relu', 0.5, 0.1, <class 'mla.optimizers.Adam'>, 0.1), AUC-ROC: 0.5000\n",
      "Params: (128, 'leakyrelu', 0.2, 0.01, <class 'mla.optimizers.Adadelta'>, 0.001), AUC-ROC: 0.6479\n",
      "Params: (128, 'leakyrelu', 0.2, 0.01, <class 'mla.optimizers.Adadelta'>, 0.01), AUC-ROC: 0.3579\n",
      "Params: (128, 'leakyrelu', 0.2, 0.01, <class 'mla.optimizers.Adadelta'>, 0.1), AUC-ROC: 0.6341\n",
      "Params: (128, 'leakyrelu', 0.2, 0.01, <class 'mla.optimizers.Adam'>, 0.001), AUC-ROC: 0.6388\n",
      "Params: (128, 'leakyrelu', 0.2, 0.01, <class 'mla.optimizers.Adam'>, 0.01), AUC-ROC: 0.7818\n",
      "Params: (128, 'leakyrelu', 0.2, 0.01, <class 'mla.optimizers.Adam'>, 0.1), AUC-ROC: 0.8013\n",
      "Params: (128, 'leakyrelu', 0.2, 0.05, <class 'mla.optimizers.Adadelta'>, 0.001), AUC-ROC: 0.5000\n",
      "Params: (128, 'leakyrelu', 0.2, 0.05, <class 'mla.optimizers.Adadelta'>, 0.01), AUC-ROC: 0.5855\n",
      "Params: (128, 'leakyrelu', 0.2, 0.05, <class 'mla.optimizers.Adadelta'>, 0.1), AUC-ROC: 0.5113\n",
      "Params: (128, 'leakyrelu', 0.2, 0.05, <class 'mla.optimizers.Adam'>, 0.001), AUC-ROC: 0.6028\n",
      "Params: (128, 'leakyrelu', 0.2, 0.05, <class 'mla.optimizers.Adam'>, 0.01), AUC-ROC: 0.6402\n",
      "Params: (128, 'leakyrelu', 0.2, 0.05, <class 'mla.optimizers.Adam'>, 0.1), AUC-ROC: 0.8119\n",
      "Params: (128, 'leakyrelu', 0.2, 0.1, <class 'mla.optimizers.Adadelta'>, 0.001), AUC-ROC: 0.4680\n",
      "Params: (128, 'leakyrelu', 0.2, 0.1, <class 'mla.optimizers.Adadelta'>, 0.01), AUC-ROC: 0.5331\n",
      "Params: (128, 'leakyrelu', 0.2, 0.1, <class 'mla.optimizers.Adadelta'>, 0.1), AUC-ROC: 0.5788\n",
      "Params: (128, 'leakyrelu', 0.2, 0.1, <class 'mla.optimizers.Adam'>, 0.001), AUC-ROC: 0.5646\n",
      "Params: (128, 'leakyrelu', 0.2, 0.1, <class 'mla.optimizers.Adam'>, 0.01), AUC-ROC: 0.7420\n",
      "Params: (128, 'leakyrelu', 0.2, 0.1, <class 'mla.optimizers.Adam'>, 0.1), AUC-ROC: 0.7484\n",
      "Params: (128, 'leakyrelu', 0.3, 0.01, <class 'mla.optimizers.Adadelta'>, 0.001), AUC-ROC: 0.3978\n",
      "Params: (128, 'leakyrelu', 0.3, 0.01, <class 'mla.optimizers.Adadelta'>, 0.01), AUC-ROC: 0.4848\n",
      "Params: (128, 'leakyrelu', 0.3, 0.01, <class 'mla.optimizers.Adadelta'>, 0.1), AUC-ROC: 0.5396\n",
      "Params: (128, 'leakyrelu', 0.3, 0.01, <class 'mla.optimizers.Adam'>, 0.001), AUC-ROC: 0.6107\n",
      "Params: (128, 'leakyrelu', 0.3, 0.01, <class 'mla.optimizers.Adam'>, 0.01), AUC-ROC: 0.7923\n",
      "Params: (128, 'leakyrelu', 0.3, 0.01, <class 'mla.optimizers.Adam'>, 0.1), AUC-ROC: 0.8077\n",
      "Params: (128, 'leakyrelu', 0.3, 0.05, <class 'mla.optimizers.Adadelta'>, 0.001), AUC-ROC: 0.5000\n",
      "Params: (128, 'leakyrelu', 0.3, 0.05, <class 'mla.optimizers.Adadelta'>, 0.01), AUC-ROC: 0.4868\n",
      "Params: (128, 'leakyrelu', 0.3, 0.05, <class 'mla.optimizers.Adadelta'>, 0.1), AUC-ROC: 0.5763\n",
      "Params: (128, 'leakyrelu', 0.3, 0.05, <class 'mla.optimizers.Adam'>, 0.001), AUC-ROC: 0.6422\n",
      "Params: (128, 'leakyrelu', 0.3, 0.05, <class 'mla.optimizers.Adam'>, 0.01), AUC-ROC: 0.7596\n",
      "Params: (128, 'leakyrelu', 0.3, 0.05, <class 'mla.optimizers.Adam'>, 0.1), AUC-ROC: 0.7693\n",
      "Params: (128, 'leakyrelu', 0.3, 0.1, <class 'mla.optimizers.Adadelta'>, 0.001), AUC-ROC: 0.6613\n",
      "Params: (128, 'leakyrelu', 0.3, 0.1, <class 'mla.optimizers.Adadelta'>, 0.01), AUC-ROC: 0.3194\n",
      "Params: (128, 'leakyrelu', 0.3, 0.1, <class 'mla.optimizers.Adadelta'>, 0.1), AUC-ROC: 0.6567\n",
      "Params: (128, 'leakyrelu', 0.3, 0.1, <class 'mla.optimizers.Adam'>, 0.001), AUC-ROC: 0.6395\n",
      "Params: (128, 'leakyrelu', 0.3, 0.1, <class 'mla.optimizers.Adam'>, 0.01), AUC-ROC: 0.7739\n",
      "Params: (128, 'leakyrelu', 0.3, 0.1, <class 'mla.optimizers.Adam'>, 0.1), AUC-ROC: 0.8136\n",
      "Params: (128, 'leakyrelu', 0.5, 0.01, <class 'mla.optimizers.Adadelta'>, 0.001), AUC-ROC: 0.4892\n",
      "Params: (128, 'leakyrelu', 0.5, 0.01, <class 'mla.optimizers.Adadelta'>, 0.01), AUC-ROC: 0.5210\n",
      "Params: (128, 'leakyrelu', 0.5, 0.01, <class 'mla.optimizers.Adadelta'>, 0.1), AUC-ROC: 0.4562\n",
      "Params: (128, 'leakyrelu', 0.5, 0.01, <class 'mla.optimizers.Adam'>, 0.001), AUC-ROC: 0.7155\n",
      "Params: (128, 'leakyrelu', 0.5, 0.01, <class 'mla.optimizers.Adam'>, 0.01), AUC-ROC: 0.7394\n",
      "Params: (128, 'leakyrelu', 0.5, 0.01, <class 'mla.optimizers.Adam'>, 0.1), AUC-ROC: 0.8241\n",
      "Params: (128, 'leakyrelu', 0.5, 0.05, <class 'mla.optimizers.Adadelta'>, 0.001), AUC-ROC: 0.7394\n",
      "Params: (128, 'leakyrelu', 0.5, 0.05, <class 'mla.optimizers.Adadelta'>, 0.01), AUC-ROC: 0.6358\n",
      "Params: (128, 'leakyrelu', 0.5, 0.05, <class 'mla.optimizers.Adadelta'>, 0.1), AUC-ROC: 0.3713\n",
      "Params: (128, 'leakyrelu', 0.5, 0.05, <class 'mla.optimizers.Adam'>, 0.001), AUC-ROC: 0.5383\n",
      "Params: (128, 'leakyrelu', 0.5, 0.05, <class 'mla.optimizers.Adam'>, 0.01), AUC-ROC: 0.7702\n",
      "Params: (128, 'leakyrelu', 0.5, 0.05, <class 'mla.optimizers.Adam'>, 0.1), AUC-ROC: 0.8099\n",
      "Params: (128, 'leakyrelu', 0.5, 0.1, <class 'mla.optimizers.Adadelta'>, 0.001), AUC-ROC: 0.7115\n",
      "Params: (128, 'leakyrelu', 0.5, 0.1, <class 'mla.optimizers.Adadelta'>, 0.01), AUC-ROC: 0.5803\n",
      "Params: (128, 'leakyrelu', 0.5, 0.1, <class 'mla.optimizers.Adadelta'>, 0.1), AUC-ROC: 0.4178\n",
      "Params: (128, 'leakyrelu', 0.5, 0.1, <class 'mla.optimizers.Adam'>, 0.001), AUC-ROC: 0.7436\n",
      "Params: (128, 'leakyrelu', 0.5, 0.1, <class 'mla.optimizers.Adam'>, 0.01), AUC-ROC: 0.7638\n",
      "Params: (128, 'leakyrelu', 0.5, 0.1, <class 'mla.optimizers.Adam'>, 0.1), AUC-ROC: 0.7701\n"
     ]
    },
    {
     "name": "stderr",
     "output_type": "stream",
     "text": [
      "C:\\Users\\nodax\\PycharmProjects\\MachineLearning\\.venv\\Lib\\site-packages\\autograd\\numpy\\numpy_vjps.py:52: RuntimeWarning: overflow encountered in square\n",
      "  lambda ans, x, y : unbroadcast_f(y, lambda g: - g * x / y**2))\n"
     ]
    },
    {
     "name": "stdout",
     "output_type": "stream",
     "text": [
      "Params: (128, 'sigmoid', 0.2, 0.01, <class 'mla.optimizers.Adadelta'>, 0.001), AUC-ROC: 0.5117\n"
     ]
    },
    {
     "name": "stderr",
     "output_type": "stream",
     "text": [
      "C:\\Users\\nodax\\PycharmProjects\\MachineLearning\\.venv\\Lib\\site-packages\\autograd\\numpy\\numpy_vjps.py:52: RuntimeWarning: overflow encountered in square\n",
      "  lambda ans, x, y : unbroadcast_f(y, lambda g: - g * x / y**2))\n"
     ]
    },
    {
     "name": "stdout",
     "output_type": "stream",
     "text": [
      "Params: (128, 'sigmoid', 0.2, 0.01, <class 'mla.optimizers.Adadelta'>, 0.01), AUC-ROC: 0.5460\n"
     ]
    },
    {
     "name": "stderr",
     "output_type": "stream",
     "text": [
      "C:\\Users\\nodax\\PycharmProjects\\MachineLearning\\.venv\\Lib\\site-packages\\autograd\\numpy\\numpy_vjps.py:52: RuntimeWarning: overflow encountered in square\n",
      "  lambda ans, x, y : unbroadcast_f(y, lambda g: - g * x / y**2))\n"
     ]
    },
    {
     "name": "stdout",
     "output_type": "stream",
     "text": [
      "Params: (128, 'sigmoid', 0.2, 0.01, <class 'mla.optimizers.Adadelta'>, 0.1), AUC-ROC: 0.6507\n"
     ]
    },
    {
     "name": "stderr",
     "output_type": "stream",
     "text": [
      "C:\\Users\\nodax\\PycharmProjects\\MachineLearning\\.venv\\Lib\\site-packages\\autograd\\numpy\\numpy_vjps.py:52: RuntimeWarning: overflow encountered in square\n",
      "  lambda ans, x, y : unbroadcast_f(y, lambda g: - g * x / y**2))\n"
     ]
    },
    {
     "name": "stdout",
     "output_type": "stream",
     "text": [
      "Params: (128, 'sigmoid', 0.2, 0.01, <class 'mla.optimizers.Adam'>, 0.001), AUC-ROC: 0.7339\n"
     ]
    },
    {
     "name": "stderr",
     "output_type": "stream",
     "text": [
      "C:\\Users\\nodax\\PycharmProjects\\MachineLearning\\.venv\\Lib\\site-packages\\autograd\\numpy\\numpy_vjps.py:52: RuntimeWarning: overflow encountered in square\n",
      "  lambda ans, x, y : unbroadcast_f(y, lambda g: - g * x / y**2))\n"
     ]
    },
    {
     "name": "stdout",
     "output_type": "stream",
     "text": [
      "Params: (128, 'sigmoid', 0.2, 0.01, <class 'mla.optimizers.Adam'>, 0.01), AUC-ROC: 0.7313\n"
     ]
    },
    {
     "name": "stderr",
     "output_type": "stream",
     "text": [
      "C:\\Users\\nodax\\PycharmProjects\\MachineLearning\\.venv\\Lib\\site-packages\\autograd\\numpy\\numpy_vjps.py:52: RuntimeWarning: overflow encountered in square\n",
      "  lambda ans, x, y : unbroadcast_f(y, lambda g: - g * x / y**2))\n",
      "C:\\Users\\nodax\\PycharmProjects\\MachineLearning\\.venv\\Lib\\site-packages\\autograd\\tracer.py:48: RuntimeWarning: overflow encountered in exp\n",
      "  return f_raw(*args, **kwargs)\n",
      "C:\\Users\\nodax\\PycharmProjects\\MachineLearning\\.venv\\Lib\\site-packages\\autograd\\numpy\\numpy_vjps.py:74: RuntimeWarning: invalid value encountered in multiply\n",
      "  defvjp(anp.exp,    lambda ans, x : lambda g: ans * g)\n"
     ]
    },
    {
     "ename": "ValueError",
     "evalue": "Input contains NaN.",
     "output_type": "error",
     "traceback": [
      "\u001B[1;31m---------------------------------------------------------------------------\u001B[0m",
      "\u001B[1;31mValueError\u001B[0m                                Traceback (most recent call last)",
      "Cell \u001B[1;32mIn[19], line 73\u001B[0m\n\u001B[0;32m     70\u001B[0m predictions \u001B[38;5;241m=\u001B[39m model\u001B[38;5;241m.\u001B[39mpredict(X_test)\n\u001B[0;32m     72\u001B[0m \u001B[38;5;66;03m# Оценка AUC-ROC\u001B[39;00m\n\u001B[1;32m---> 73\u001B[0m roc_auc \u001B[38;5;241m=\u001B[39m \u001B[43mroc_auc_score\u001B[49m\u001B[43m(\u001B[49m\u001B[43my_test_onehot\u001B[49m\u001B[43m[\u001B[49m\u001B[43m:\u001B[49m\u001B[43m,\u001B[49m\u001B[43m \u001B[49m\u001B[38;5;241;43m0\u001B[39;49m\u001B[43m]\u001B[49m\u001B[43m,\u001B[49m\u001B[43m \u001B[49m\u001B[43mpredictions\u001B[49m\u001B[43m[\u001B[49m\u001B[43m:\u001B[49m\u001B[43m,\u001B[49m\u001B[43m \u001B[49m\u001B[38;5;241;43m0\u001B[39;49m\u001B[43m]\u001B[49m\u001B[43m)\u001B[49m\n\u001B[0;32m     75\u001B[0m \u001B[38;5;28mprint\u001B[39m(\u001B[38;5;124mf\u001B[39m\u001B[38;5;124m\"\u001B[39m\u001B[38;5;124mParams: \u001B[39m\u001B[38;5;132;01m{\u001B[39;00mparams\u001B[38;5;132;01m}\u001B[39;00m\u001B[38;5;124m, AUC-ROC: \u001B[39m\u001B[38;5;132;01m{\u001B[39;00mroc_auc\u001B[38;5;132;01m:\u001B[39;00m\u001B[38;5;124m.4f\u001B[39m\u001B[38;5;132;01m}\u001B[39;00m\u001B[38;5;124m\"\u001B[39m)\n\u001B[0;32m     77\u001B[0m \u001B[38;5;28;01mif\u001B[39;00m roc_auc \u001B[38;5;241m>\u001B[39m best_score:\n",
      "File \u001B[1;32m~\\PycharmProjects\\MachineLearning\\.venv\\Lib\\site-packages\\sklearn\\utils\\_param_validation.py:216\u001B[0m, in \u001B[0;36mvalidate_params.<locals>.decorator.<locals>.wrapper\u001B[1;34m(*args, **kwargs)\u001B[0m\n\u001B[0;32m    210\u001B[0m \u001B[38;5;28;01mtry\u001B[39;00m:\n\u001B[0;32m    211\u001B[0m     \u001B[38;5;28;01mwith\u001B[39;00m config_context(\n\u001B[0;32m    212\u001B[0m         skip_parameter_validation\u001B[38;5;241m=\u001B[39m(\n\u001B[0;32m    213\u001B[0m             prefer_skip_nested_validation \u001B[38;5;129;01mor\u001B[39;00m global_skip_validation\n\u001B[0;32m    214\u001B[0m         )\n\u001B[0;32m    215\u001B[0m     ):\n\u001B[1;32m--> 216\u001B[0m         \u001B[38;5;28;01mreturn\u001B[39;00m \u001B[43mfunc\u001B[49m\u001B[43m(\u001B[49m\u001B[38;5;241;43m*\u001B[39;49m\u001B[43margs\u001B[49m\u001B[43m,\u001B[49m\u001B[43m \u001B[49m\u001B[38;5;241;43m*\u001B[39;49m\u001B[38;5;241;43m*\u001B[39;49m\u001B[43mkwargs\u001B[49m\u001B[43m)\u001B[49m\n\u001B[0;32m    217\u001B[0m \u001B[38;5;28;01mexcept\u001B[39;00m InvalidParameterError \u001B[38;5;28;01mas\u001B[39;00m e:\n\u001B[0;32m    218\u001B[0m     \u001B[38;5;66;03m# When the function is just a wrapper around an estimator, we allow\u001B[39;00m\n\u001B[0;32m    219\u001B[0m     \u001B[38;5;66;03m# the function to delegate validation to the estimator, but we replace\u001B[39;00m\n\u001B[0;32m    220\u001B[0m     \u001B[38;5;66;03m# the name of the estimator by the name of the function in the error\u001B[39;00m\n\u001B[0;32m    221\u001B[0m     \u001B[38;5;66;03m# message to avoid confusion.\u001B[39;00m\n\u001B[0;32m    222\u001B[0m     msg \u001B[38;5;241m=\u001B[39m re\u001B[38;5;241m.\u001B[39msub(\n\u001B[0;32m    223\u001B[0m         \u001B[38;5;124mr\u001B[39m\u001B[38;5;124m\"\u001B[39m\u001B[38;5;124mparameter of \u001B[39m\u001B[38;5;124m\\\u001B[39m\u001B[38;5;124mw+ must be\u001B[39m\u001B[38;5;124m\"\u001B[39m,\n\u001B[0;32m    224\u001B[0m         \u001B[38;5;124mf\u001B[39m\u001B[38;5;124m\"\u001B[39m\u001B[38;5;124mparameter of \u001B[39m\u001B[38;5;132;01m{\u001B[39;00mfunc\u001B[38;5;241m.\u001B[39m\u001B[38;5;18m__qualname__\u001B[39m\u001B[38;5;132;01m}\u001B[39;00m\u001B[38;5;124m must be\u001B[39m\u001B[38;5;124m\"\u001B[39m,\n\u001B[0;32m    225\u001B[0m         \u001B[38;5;28mstr\u001B[39m(e),\n\u001B[0;32m    226\u001B[0m     )\n",
      "File \u001B[1;32m~\\PycharmProjects\\MachineLearning\\.venv\\Lib\\site-packages\\sklearn\\metrics\\_ranking.py:616\u001B[0m, in \u001B[0;36mroc_auc_score\u001B[1;34m(y_true, y_score, average, sample_weight, max_fpr, multi_class, labels)\u001B[0m\n\u001B[0;32m    614\u001B[0m y_type \u001B[38;5;241m=\u001B[39m type_of_target(y_true, input_name\u001B[38;5;241m=\u001B[39m\u001B[38;5;124m\"\u001B[39m\u001B[38;5;124my_true\u001B[39m\u001B[38;5;124m\"\u001B[39m)\n\u001B[0;32m    615\u001B[0m y_true \u001B[38;5;241m=\u001B[39m check_array(y_true, ensure_2d\u001B[38;5;241m=\u001B[39m\u001B[38;5;28;01mFalse\u001B[39;00m, dtype\u001B[38;5;241m=\u001B[39m\u001B[38;5;28;01mNone\u001B[39;00m)\n\u001B[1;32m--> 616\u001B[0m y_score \u001B[38;5;241m=\u001B[39m \u001B[43mcheck_array\u001B[49m\u001B[43m(\u001B[49m\u001B[43my_score\u001B[49m\u001B[43m,\u001B[49m\u001B[43m \u001B[49m\u001B[43mensure_2d\u001B[49m\u001B[38;5;241;43m=\u001B[39;49m\u001B[38;5;28;43;01mFalse\u001B[39;49;00m\u001B[43m)\u001B[49m\n\u001B[0;32m    618\u001B[0m \u001B[38;5;28;01mif\u001B[39;00m y_type \u001B[38;5;241m==\u001B[39m \u001B[38;5;124m\"\u001B[39m\u001B[38;5;124mmulticlass\u001B[39m\u001B[38;5;124m\"\u001B[39m \u001B[38;5;129;01mor\u001B[39;00m (\n\u001B[0;32m    619\u001B[0m     y_type \u001B[38;5;241m==\u001B[39m \u001B[38;5;124m\"\u001B[39m\u001B[38;5;124mbinary\u001B[39m\u001B[38;5;124m\"\u001B[39m \u001B[38;5;129;01mand\u001B[39;00m y_score\u001B[38;5;241m.\u001B[39mndim \u001B[38;5;241m==\u001B[39m \u001B[38;5;241m2\u001B[39m \u001B[38;5;129;01mand\u001B[39;00m y_score\u001B[38;5;241m.\u001B[39mshape[\u001B[38;5;241m1\u001B[39m] \u001B[38;5;241m>\u001B[39m \u001B[38;5;241m2\u001B[39m\n\u001B[0;32m    620\u001B[0m ):\n\u001B[0;32m    621\u001B[0m     \u001B[38;5;66;03m# do not support partial ROC computation for multiclass\u001B[39;00m\n\u001B[0;32m    622\u001B[0m     \u001B[38;5;28;01mif\u001B[39;00m max_fpr \u001B[38;5;129;01mis\u001B[39;00m \u001B[38;5;129;01mnot\u001B[39;00m \u001B[38;5;28;01mNone\u001B[39;00m \u001B[38;5;129;01mand\u001B[39;00m max_fpr \u001B[38;5;241m!=\u001B[39m \u001B[38;5;241m1.0\u001B[39m:\n",
      "File \u001B[1;32m~\\PycharmProjects\\MachineLearning\\.venv\\Lib\\site-packages\\sklearn\\utils\\validation.py:1107\u001B[0m, in \u001B[0;36mcheck_array\u001B[1;34m(array, accept_sparse, accept_large_sparse, dtype, order, copy, force_writeable, force_all_finite, ensure_all_finite, ensure_non_negative, ensure_2d, allow_nd, ensure_min_samples, ensure_min_features, estimator, input_name)\u001B[0m\n\u001B[0;32m   1101\u001B[0m     \u001B[38;5;28;01mraise\u001B[39;00m \u001B[38;5;167;01mValueError\u001B[39;00m(\n\u001B[0;32m   1102\u001B[0m         \u001B[38;5;124m\"\u001B[39m\u001B[38;5;124mFound array with dim \u001B[39m\u001B[38;5;132;01m%d\u001B[39;00m\u001B[38;5;124m. \u001B[39m\u001B[38;5;132;01m%s\u001B[39;00m\u001B[38;5;124m expected <= 2.\u001B[39m\u001B[38;5;124m\"\u001B[39m\n\u001B[0;32m   1103\u001B[0m         \u001B[38;5;241m%\u001B[39m (array\u001B[38;5;241m.\u001B[39mndim, estimator_name)\n\u001B[0;32m   1104\u001B[0m     )\n\u001B[0;32m   1106\u001B[0m \u001B[38;5;28;01mif\u001B[39;00m ensure_all_finite:\n\u001B[1;32m-> 1107\u001B[0m     \u001B[43m_assert_all_finite\u001B[49m\u001B[43m(\u001B[49m\n\u001B[0;32m   1108\u001B[0m \u001B[43m        \u001B[49m\u001B[43marray\u001B[49m\u001B[43m,\u001B[49m\n\u001B[0;32m   1109\u001B[0m \u001B[43m        \u001B[49m\u001B[43minput_name\u001B[49m\u001B[38;5;241;43m=\u001B[39;49m\u001B[43minput_name\u001B[49m\u001B[43m,\u001B[49m\n\u001B[0;32m   1110\u001B[0m \u001B[43m        \u001B[49m\u001B[43mestimator_name\u001B[49m\u001B[38;5;241;43m=\u001B[39;49m\u001B[43mestimator_name\u001B[49m\u001B[43m,\u001B[49m\n\u001B[0;32m   1111\u001B[0m \u001B[43m        \u001B[49m\u001B[43mallow_nan\u001B[49m\u001B[38;5;241;43m=\u001B[39;49m\u001B[43mensure_all_finite\u001B[49m\u001B[43m \u001B[49m\u001B[38;5;241;43m==\u001B[39;49m\u001B[43m \u001B[49m\u001B[38;5;124;43m\"\u001B[39;49m\u001B[38;5;124;43mallow-nan\u001B[39;49m\u001B[38;5;124;43m\"\u001B[39;49m\u001B[43m,\u001B[49m\n\u001B[0;32m   1112\u001B[0m \u001B[43m    \u001B[49m\u001B[43m)\u001B[49m\n\u001B[0;32m   1114\u001B[0m \u001B[38;5;28;01mif\u001B[39;00m copy:\n\u001B[0;32m   1115\u001B[0m     \u001B[38;5;28;01mif\u001B[39;00m _is_numpy_namespace(xp):\n\u001B[0;32m   1116\u001B[0m         \u001B[38;5;66;03m# only make a copy if `array` and `array_orig` may share memory`\u001B[39;00m\n",
      "File \u001B[1;32m~\\PycharmProjects\\MachineLearning\\.venv\\Lib\\site-packages\\sklearn\\utils\\validation.py:120\u001B[0m, in \u001B[0;36m_assert_all_finite\u001B[1;34m(X, allow_nan, msg_dtype, estimator_name, input_name)\u001B[0m\n\u001B[0;32m    117\u001B[0m \u001B[38;5;28;01mif\u001B[39;00m first_pass_isfinite:\n\u001B[0;32m    118\u001B[0m     \u001B[38;5;28;01mreturn\u001B[39;00m\n\u001B[1;32m--> 120\u001B[0m \u001B[43m_assert_all_finite_element_wise\u001B[49m\u001B[43m(\u001B[49m\n\u001B[0;32m    121\u001B[0m \u001B[43m    \u001B[49m\u001B[43mX\u001B[49m\u001B[43m,\u001B[49m\n\u001B[0;32m    122\u001B[0m \u001B[43m    \u001B[49m\u001B[43mxp\u001B[49m\u001B[38;5;241;43m=\u001B[39;49m\u001B[43mxp\u001B[49m\u001B[43m,\u001B[49m\n\u001B[0;32m    123\u001B[0m \u001B[43m    \u001B[49m\u001B[43mallow_nan\u001B[49m\u001B[38;5;241;43m=\u001B[39;49m\u001B[43mallow_nan\u001B[49m\u001B[43m,\u001B[49m\n\u001B[0;32m    124\u001B[0m \u001B[43m    \u001B[49m\u001B[43mmsg_dtype\u001B[49m\u001B[38;5;241;43m=\u001B[39;49m\u001B[43mmsg_dtype\u001B[49m\u001B[43m,\u001B[49m\n\u001B[0;32m    125\u001B[0m \u001B[43m    \u001B[49m\u001B[43mestimator_name\u001B[49m\u001B[38;5;241;43m=\u001B[39;49m\u001B[43mestimator_name\u001B[49m\u001B[43m,\u001B[49m\n\u001B[0;32m    126\u001B[0m \u001B[43m    \u001B[49m\u001B[43minput_name\u001B[49m\u001B[38;5;241;43m=\u001B[39;49m\u001B[43minput_name\u001B[49m\u001B[43m,\u001B[49m\n\u001B[0;32m    127\u001B[0m \u001B[43m\u001B[49m\u001B[43m)\u001B[49m\n",
      "File \u001B[1;32m~\\PycharmProjects\\MachineLearning\\.venv\\Lib\\site-packages\\sklearn\\utils\\validation.py:169\u001B[0m, in \u001B[0;36m_assert_all_finite_element_wise\u001B[1;34m(X, xp, allow_nan, msg_dtype, estimator_name, input_name)\u001B[0m\n\u001B[0;32m    152\u001B[0m \u001B[38;5;28;01mif\u001B[39;00m estimator_name \u001B[38;5;129;01mand\u001B[39;00m input_name \u001B[38;5;241m==\u001B[39m \u001B[38;5;124m\"\u001B[39m\u001B[38;5;124mX\u001B[39m\u001B[38;5;124m\"\u001B[39m \u001B[38;5;129;01mand\u001B[39;00m has_nan_error:\n\u001B[0;32m    153\u001B[0m     \u001B[38;5;66;03m# Improve the error message on how to handle missing values in\u001B[39;00m\n\u001B[0;32m    154\u001B[0m     \u001B[38;5;66;03m# scikit-learn.\u001B[39;00m\n\u001B[0;32m    155\u001B[0m     msg_err \u001B[38;5;241m+\u001B[39m\u001B[38;5;241m=\u001B[39m (\n\u001B[0;32m    156\u001B[0m         \u001B[38;5;124mf\u001B[39m\u001B[38;5;124m\"\u001B[39m\u001B[38;5;130;01m\\n\u001B[39;00m\u001B[38;5;132;01m{\u001B[39;00mestimator_name\u001B[38;5;132;01m}\u001B[39;00m\u001B[38;5;124m does not accept missing values\u001B[39m\u001B[38;5;124m\"\u001B[39m\n\u001B[0;32m    157\u001B[0m         \u001B[38;5;124m\"\u001B[39m\u001B[38;5;124m encoded as NaN natively. For supervised learning, you might want\u001B[39m\u001B[38;5;124m\"\u001B[39m\n\u001B[1;32m   (...)\u001B[0m\n\u001B[0;32m    167\u001B[0m         \u001B[38;5;124m\"\u001B[39m\u001B[38;5;124m#estimators-that-handle-nan-values\u001B[39m\u001B[38;5;124m\"\u001B[39m\n\u001B[0;32m    168\u001B[0m     )\n\u001B[1;32m--> 169\u001B[0m \u001B[38;5;28;01mraise\u001B[39;00m \u001B[38;5;167;01mValueError\u001B[39;00m(msg_err)\n",
      "\u001B[1;31mValueError\u001B[0m: Input contains NaN."
     ]
    }
   ],
   "execution_count": 19
  },
  {
   "metadata": {},
   "cell_type": "code",
   "outputs": [],
   "execution_count": null,
   "source": "",
   "id": "afb9f2f1b1970cdd"
  }
 ],
 "metadata": {
  "kernelspec": {
   "display_name": "Python 3",
   "language": "python",
   "name": "python3"
  },
  "language_info": {
   "codemirror_mode": {
    "name": "ipython",
    "version": 3
   },
   "file_extension": ".py",
   "mimetype": "text/x-python",
   "name": "python",
   "nbconvert_exporter": "python",
   "pygments_lexer": "ipython3",
   "version": "3.13.1"
  }
 },
 "nbformat": 4,
 "nbformat_minor": 5
}
