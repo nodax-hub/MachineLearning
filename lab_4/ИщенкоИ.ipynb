{
 "cells": [
  {
   "cell_type": "markdown",
   "id": "95702cc17dda1d94",
   "metadata": {},
   "source": [
    "# Лабораторная работа 4\n",
    "\n",
    "## Нейронные сети\n",
    "\n",
    "## Задание\n",
    "1. Вам необходимо реализовать все объявленные методы в папке **mla**.\n",
    "2. Вам необходимо реализовать класс NeuralNet используя методы из папки **mla** в ячейке 1.\n",
    "3. Проверить работу на синтетических данных в ячейке 2.\n",
    "4. Создать нейросеть и подобрать ее архитектуру и параметры для датасета из **вашего варианта** в ячейке 3.\n",
    "5. Проверить работу и точность с помощью заранее объявленной строки в ячейке 3 - `assert roc_auc_score(y_test_onehot[:, 0], predictions[:, 0]) >= 0.8`\n"
   ]
  },
  {
   "cell_type": "code",
   "id": "7dfc984bd20c41e5",
   "metadata": {
    "ExecuteTime": {
     "end_time": "2024-12-23T18:42:16.354211Z",
     "start_time": "2024-12-23T18:42:16.350622Z"
    }
   },
   "source": "from lab_4.mla.neuralnet import NeuralNet",
   "outputs": [],
   "execution_count": 26
  },
  {
   "cell_type": "code",
   "id": "6b83b10a7e14ea21",
   "metadata": {
    "ExecuteTime": {
     "end_time": "2024-12-23T18:42:16.402889Z",
     "start_time": "2024-12-23T18:42:16.396629Z"
    }
   },
   "source": [
    "from sklearn.datasets import make_classification\n",
    "from sklearn.model_selection import train_test_split\n",
    "\n",
    "X, y = make_classification(\n",
    "    n_samples=750, n_features=10, n_informative=8, random_state=1111, n_classes=2, class_sep=2.5, n_redundant=0\n",
    ")\n",
    "X_train, X_test, y_train, y_test = train_test_split(X, y, test_size=0.12, random_state=1111)"
   ],
   "outputs": [],
   "execution_count": 27
  },
  {
   "metadata": {},
   "cell_type": "markdown",
   "source": "## Проверка работы",
   "id": "72a0446bf8f6d322"
  },
  {
   "metadata": {
    "ExecuteTime": {
     "end_time": "2024-12-23T18:42:19.585103Z",
     "start_time": "2024-12-23T18:42:16.419898Z"
    }
   },
   "cell_type": "code",
   "source": [
    "from mla.basic import Dense, Activation, Dropout\n",
    "from mla.parameters import Parameters\n",
    "from mla.constraints import MaxNorm\n",
    "from mla.regularizers import L2\n",
    "from mla.optimizers import Adadelta, Adam\n",
    "from mla.utils import one_hot\n",
    "\n",
    "from sklearn.metrics import roc_auc_score\n",
    "\n",
    "y_train_onehot = one_hot(y_train)\n",
    "y_test_onehot = one_hot(y_test)\n",
    "\n",
    "model = NeuralNet(\n",
    "    layers=[\n",
    "        Dense(256, Parameters(init_name=\"uniform\", regularizers={\"W\": L2(0.05)})),\n",
    "        Activation(\"relu\"),\n",
    "        Dropout(0.5),\n",
    "        Dense(128, Parameters(init_name=\"normal\", constraints={\"W\": MaxNorm()})),\n",
    "        Activation(\"relu\"),\n",
    "        Dense(2),\n",
    "        Activation(\"softmax\"),\n",
    "    ],\n",
    "    loss_name=\"categorical_crossentropy\",\n",
    "    optimizer=Adadelta(),\n",
    "    metric_name=\"accuracy\",\n",
    "    batch_size=64,\n",
    "    max_epochs=25,\n",
    ")\n",
    "model.fit(X_train, y_train_onehot)\n",
    "predictions = model.predict(X_test)\n",
    "assert roc_auc_score(y_test_onehot[:, 0], predictions[:, 0]) >= 0.95"
   ],
   "id": "5ccd97e9780a91a3",
   "outputs": [
    {
     "data": {
      "text/plain": [
       "  0%|          | 0/25 [00:00<?, ?it/s]"
      ],
      "application/vnd.jupyter.widget-view+json": {
       "version_major": 2,
       "version_minor": 0,
       "model_id": "cb47a02f29354e68a6236f8cbf7e72be"
      }
     },
     "metadata": {},
     "output_type": "display_data"
    }
   ],
   "execution_count": 28
  },
  {
   "metadata": {
    "ExecuteTime": {
     "end_time": "2024-12-23T18:42:19.614549Z",
     "start_time": "2024-12-23T18:42:19.608465Z"
    }
   },
   "cell_type": "code",
   "source": "roc_auc_score(y_test_onehot[:, 0], predictions[:, 0])",
   "id": "e95cf14291adfcd9",
   "outputs": [
    {
     "data": {
      "text/plain": [
       "1.0"
      ]
     },
     "execution_count": 29,
     "metadata": {},
     "output_type": "execute_result"
    }
   ],
   "execution_count": 29
  },
  {
   "metadata": {},
   "cell_type": "markdown",
   "source": "## Свой датасет",
   "id": "53ec017921476004"
  },
  {
   "metadata": {
    "ExecuteTime": {
     "end_time": "2024-12-23T18:42:19.648695Z",
     "start_time": "2024-12-23T18:42:19.636323Z"
    }
   },
   "cell_type": "code",
   "source": [
    "import pandas as pd\n",
    "\n",
    "# Загрузка данных\n",
    "data = pd.read_csv('Diabetes Binary Classification.csv')\n",
    "data"
   ],
   "id": "4fc26573a00b2124",
   "outputs": [
    {
     "data": {
      "text/plain": [
       "     Number of times pregnant  \\\n",
       "0                           6   \n",
       "1                           1   \n",
       "2                           8   \n",
       "3                           1   \n",
       "4                           0   \n",
       "..                        ...   \n",
       "763                        10   \n",
       "764                         2   \n",
       "765                         5   \n",
       "766                         1   \n",
       "767                         1   \n",
       "\n",
       "     Plasma glucose concentration a 2 hours in an oral glucose tolerance test  \\\n",
       "0                                                  148                          \n",
       "1                                                   85                          \n",
       "2                                                  183                          \n",
       "3                                                   89                          \n",
       "4                                                  137                          \n",
       "..                                                 ...                          \n",
       "763                                                101                          \n",
       "764                                                122                          \n",
       "765                                                121                          \n",
       "766                                                126                          \n",
       "767                                                 93                          \n",
       "\n",
       "     Diastolic blood pressure (mm Hg)  Triceps skin fold thickness (mm)  \\\n",
       "0                                  72                                35   \n",
       "1                                  66                                29   \n",
       "2                                  64                                 0   \n",
       "3                                  66                                23   \n",
       "4                                  40                                35   \n",
       "..                                ...                               ...   \n",
       "763                                76                                48   \n",
       "764                                70                                27   \n",
       "765                                72                                23   \n",
       "766                                60                                 0   \n",
       "767                                70                                31   \n",
       "\n",
       "     2-Hour serum insulin (mu U/ml)  \\\n",
       "0                                 0   \n",
       "1                                 0   \n",
       "2                                 0   \n",
       "3                                94   \n",
       "4                               168   \n",
       "..                              ...   \n",
       "763                             180   \n",
       "764                               0   \n",
       "765                             112   \n",
       "766                               0   \n",
       "767                               0   \n",
       "\n",
       "     Body mass index (weight in kg/(height in m)^2)  \\\n",
       "0                                              33.6   \n",
       "1                                              26.6   \n",
       "2                                              23.3   \n",
       "3                                              28.1   \n",
       "4                                              43.1   \n",
       "..                                              ...   \n",
       "763                                            32.9   \n",
       "764                                            36.8   \n",
       "765                                            26.2   \n",
       "766                                            30.1   \n",
       "767                                            30.4   \n",
       "\n",
       "     Diabetes pedigree function  Age (years)  Class variable (0 or 1)  \n",
       "0                         0.627           50                        1  \n",
       "1                         0.351           31                        0  \n",
       "2                         0.672           32                        1  \n",
       "3                         0.167           21                        0  \n",
       "4                         2.288           33                        1  \n",
       "..                          ...          ...                      ...  \n",
       "763                       0.171           63                        0  \n",
       "764                       0.340           27                        0  \n",
       "765                       0.245           30                        0  \n",
       "766                       0.349           47                        1  \n",
       "767                       0.315           23                        0  \n",
       "\n",
       "[768 rows x 9 columns]"
      ],
      "text/html": [
       "<div>\n",
       "<style scoped>\n",
       "    .dataframe tbody tr th:only-of-type {\n",
       "        vertical-align: middle;\n",
       "    }\n",
       "\n",
       "    .dataframe tbody tr th {\n",
       "        vertical-align: top;\n",
       "    }\n",
       "\n",
       "    .dataframe thead th {\n",
       "        text-align: right;\n",
       "    }\n",
       "</style>\n",
       "<table border=\"1\" class=\"dataframe\">\n",
       "  <thead>\n",
       "    <tr style=\"text-align: right;\">\n",
       "      <th></th>\n",
       "      <th>Number of times pregnant</th>\n",
       "      <th>Plasma glucose concentration a 2 hours in an oral glucose tolerance test</th>\n",
       "      <th>Diastolic blood pressure (mm Hg)</th>\n",
       "      <th>Triceps skin fold thickness (mm)</th>\n",
       "      <th>2-Hour serum insulin (mu U/ml)</th>\n",
       "      <th>Body mass index (weight in kg/(height in m)^2)</th>\n",
       "      <th>Diabetes pedigree function</th>\n",
       "      <th>Age (years)</th>\n",
       "      <th>Class variable (0 or 1)</th>\n",
       "    </tr>\n",
       "  </thead>\n",
       "  <tbody>\n",
       "    <tr>\n",
       "      <th>0</th>\n",
       "      <td>6</td>\n",
       "      <td>148</td>\n",
       "      <td>72</td>\n",
       "      <td>35</td>\n",
       "      <td>0</td>\n",
       "      <td>33.6</td>\n",
       "      <td>0.627</td>\n",
       "      <td>50</td>\n",
       "      <td>1</td>\n",
       "    </tr>\n",
       "    <tr>\n",
       "      <th>1</th>\n",
       "      <td>1</td>\n",
       "      <td>85</td>\n",
       "      <td>66</td>\n",
       "      <td>29</td>\n",
       "      <td>0</td>\n",
       "      <td>26.6</td>\n",
       "      <td>0.351</td>\n",
       "      <td>31</td>\n",
       "      <td>0</td>\n",
       "    </tr>\n",
       "    <tr>\n",
       "      <th>2</th>\n",
       "      <td>8</td>\n",
       "      <td>183</td>\n",
       "      <td>64</td>\n",
       "      <td>0</td>\n",
       "      <td>0</td>\n",
       "      <td>23.3</td>\n",
       "      <td>0.672</td>\n",
       "      <td>32</td>\n",
       "      <td>1</td>\n",
       "    </tr>\n",
       "    <tr>\n",
       "      <th>3</th>\n",
       "      <td>1</td>\n",
       "      <td>89</td>\n",
       "      <td>66</td>\n",
       "      <td>23</td>\n",
       "      <td>94</td>\n",
       "      <td>28.1</td>\n",
       "      <td>0.167</td>\n",
       "      <td>21</td>\n",
       "      <td>0</td>\n",
       "    </tr>\n",
       "    <tr>\n",
       "      <th>4</th>\n",
       "      <td>0</td>\n",
       "      <td>137</td>\n",
       "      <td>40</td>\n",
       "      <td>35</td>\n",
       "      <td>168</td>\n",
       "      <td>43.1</td>\n",
       "      <td>2.288</td>\n",
       "      <td>33</td>\n",
       "      <td>1</td>\n",
       "    </tr>\n",
       "    <tr>\n",
       "      <th>...</th>\n",
       "      <td>...</td>\n",
       "      <td>...</td>\n",
       "      <td>...</td>\n",
       "      <td>...</td>\n",
       "      <td>...</td>\n",
       "      <td>...</td>\n",
       "      <td>...</td>\n",
       "      <td>...</td>\n",
       "      <td>...</td>\n",
       "    </tr>\n",
       "    <tr>\n",
       "      <th>763</th>\n",
       "      <td>10</td>\n",
       "      <td>101</td>\n",
       "      <td>76</td>\n",
       "      <td>48</td>\n",
       "      <td>180</td>\n",
       "      <td>32.9</td>\n",
       "      <td>0.171</td>\n",
       "      <td>63</td>\n",
       "      <td>0</td>\n",
       "    </tr>\n",
       "    <tr>\n",
       "      <th>764</th>\n",
       "      <td>2</td>\n",
       "      <td>122</td>\n",
       "      <td>70</td>\n",
       "      <td>27</td>\n",
       "      <td>0</td>\n",
       "      <td>36.8</td>\n",
       "      <td>0.340</td>\n",
       "      <td>27</td>\n",
       "      <td>0</td>\n",
       "    </tr>\n",
       "    <tr>\n",
       "      <th>765</th>\n",
       "      <td>5</td>\n",
       "      <td>121</td>\n",
       "      <td>72</td>\n",
       "      <td>23</td>\n",
       "      <td>112</td>\n",
       "      <td>26.2</td>\n",
       "      <td>0.245</td>\n",
       "      <td>30</td>\n",
       "      <td>0</td>\n",
       "    </tr>\n",
       "    <tr>\n",
       "      <th>766</th>\n",
       "      <td>1</td>\n",
       "      <td>126</td>\n",
       "      <td>60</td>\n",
       "      <td>0</td>\n",
       "      <td>0</td>\n",
       "      <td>30.1</td>\n",
       "      <td>0.349</td>\n",
       "      <td>47</td>\n",
       "      <td>1</td>\n",
       "    </tr>\n",
       "    <tr>\n",
       "      <th>767</th>\n",
       "      <td>1</td>\n",
       "      <td>93</td>\n",
       "      <td>70</td>\n",
       "      <td>31</td>\n",
       "      <td>0</td>\n",
       "      <td>30.4</td>\n",
       "      <td>0.315</td>\n",
       "      <td>23</td>\n",
       "      <td>0</td>\n",
       "    </tr>\n",
       "  </tbody>\n",
       "</table>\n",
       "<p>768 rows × 9 columns</p>\n",
       "</div>"
      ]
     },
     "execution_count": 30,
     "metadata": {},
     "output_type": "execute_result"
    }
   ],
   "execution_count": 30
  },
  {
   "metadata": {
    "ExecuteTime": {
     "end_time": "2024-12-23T18:42:19.712873Z",
     "start_time": "2024-12-23T18:42:19.707449Z"
    }
   },
   "cell_type": "code",
   "source": [
    "# Разделение данных на признаки и целевую переменную\n",
    "X = data.iloc[:, :-1].values\n",
    "y = data.iloc[:, -1].values\n",
    "\n",
    "# Разделение на обучающую и тестовую выборки\n",
    "X_train, X_test, y_train, y_test = train_test_split(X, y, test_size=0.2, random_state=42)\n",
    "\n",
    "# Преобразование целевой переменной в one-hot представление\n",
    "y_train_onehot = one_hot(y_train)\n",
    "y_test_onehot = one_hot(y_test)"
   ],
   "id": "fb369ac1d1b8af17",
   "outputs": [],
   "execution_count": 31
  },
  {
   "metadata": {
    "ExecuteTime": {
     "end_time": "2024-12-23T18:42:21.475258Z",
     "start_time": "2024-12-23T18:42:19.764152Z"
    }
   },
   "cell_type": "code",
   "source": [
    "# Создание модели\n",
    "model = NeuralNet(\n",
    "    layers=[\n",
    "        Dense(128, Parameters(init_name=\"uniform\", regularizers={\"W\": L2(0.01)})),\n",
    "        Activation(\"leakyrelu\"),\n",
    "        Dropout(0.5),\n",
    "        Dense(64, Parameters(init_name=\"normal\", constraints={\"W\": MaxNorm()})),\n",
    "        Activation(\"leakyrelu\"),\n",
    "        Dense(2),\n",
    "        Activation(\"softmax\"),\n",
    "    ],\n",
    "    loss_name=\"categorical_crossentropy\",\n",
    "    optimizer=Adam(0.1),\n",
    "    metric_name=\"accuracy\",\n",
    "    batch_size=64,\n",
    "    max_epochs=50,\n",
    "    verbose=True\n",
    ")\n",
    "\n",
    "# Обучение модели\n",
    "model.fit(X_train, y_train_onehot)\n",
    "\n",
    "# Предсказания\n",
    "predictions = model.predict(X_test)\n",
    "\n",
    "# Проверка метрики AUC-ROC\n",
    "roc_auc = roc_auc_score(y_test_onehot[:, 0], predictions[:, 0])\n",
    "print(f\"AUC-ROC: {roc_auc:.4f}\")"
   ],
   "id": "7e4f2eb717bbd588",
   "outputs": [
    {
     "data": {
      "text/plain": [
       "  0%|          | 0/50 [00:00<?, ?it/s]"
      ],
      "application/vnd.jupyter.widget-view+json": {
       "version_major": 2,
       "version_minor": 0,
       "model_id": "1ecadfcbb1394891b1a1b4678cf7fe11"
      }
     },
     "metadata": {},
     "output_type": "display_data"
    },
    {
     "name": "stdout",
     "output_type": "stream",
     "text": [
      "AUC-ROC: 0.8171\n"
     ]
    }
   ],
   "execution_count": 32
  },
  {
   "metadata": {
    "ExecuteTime": {
     "end_time": "2024-12-23T18:42:21.530112Z",
     "start_time": "2024-12-23T18:42:21.525698Z"
    }
   },
   "cell_type": "code",
   "source": [
    "# Утверждение, что модель достигает порога качества\n",
    "assert roc_auc >= 0.8, \"Model did not reach the expected ROC-AUC threshold.\""
   ],
   "id": "773fef81c5898e2f",
   "outputs": [],
   "execution_count": 33
  }
 ],
 "metadata": {
  "kernelspec": {
   "display_name": "Python 3",
   "language": "python",
   "name": "python3"
  },
  "language_info": {
   "codemirror_mode": {
    "name": "ipython",
    "version": 3
   },
   "file_extension": ".py",
   "mimetype": "text/x-python",
   "name": "python",
   "nbconvert_exporter": "python",
   "pygments_lexer": "ipython3",
   "version": "3.13.1"
  }
 },
 "nbformat": 4,
 "nbformat_minor": 5
}
