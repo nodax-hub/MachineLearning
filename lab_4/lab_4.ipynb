{
 "cells": [
  {
   "cell_type": "markdown",
   "id": "95702cc17dda1d94",
   "metadata": {},
   "source": [
    "# Лабораторная работа 4\n",
    "\n",
    "## Нейронные сети\n",
    "\n",
    "## Задание\n",
    "1. Вам необходимо реализовать все объявленные методы в папке **mla**.\n",
    "2. Вам необходимо реализовать класс NeuralNet используя методы из папки **mla** в ячейке 1.\n",
    "3. Проверить работу на синтетических данных в ячейке 2.\n",
    "4. Создать нейросеть и подобрать ее архитектуру и параметры для датасета из **вашего варианта** в ячейке 3.\n",
    "5. Проверить работу и точность с помощью заранее объявленной строки в ячейке 3 - `assert roc_auc_score(y_test_onehot[:, 0], predictions[:, 0]) >= 0.8`\n"
   ]
  },
  {
   "cell_type": "code",
   "id": "7dfc984bd20c41e5",
   "metadata": {
    "ExecuteTime": {
     "end_time": "2024-12-17T13:38:24.828719Z",
     "start_time": "2024-12-17T13:38:24.715142Z"
    }
   },
   "source": "from lab_4.NeuralNet import NeuralNet",
   "outputs": [],
   "execution_count": 1
  },
  {
   "cell_type": "code",
   "id": "6b83b10a7e14ea21",
   "metadata": {
    "ExecuteTime": {
     "end_time": "2024-12-17T13:38:25.436597Z",
     "start_time": "2024-12-17T13:38:24.844775Z"
    }
   },
   "source": [
    "from sklearn.datasets import make_classification\n",
    "from sklearn.model_selection import train_test_split\n",
    "\n",
    "X, y = make_classification(\n",
    "    n_samples=750, n_features=10, n_informative=8, random_state=1111, n_classes=2, class_sep=2.5, n_redundant=0\n",
    ")\n",
    "X_train, X_test, y_train, y_test = train_test_split(X, y, test_size=0.12, random_state=1111)"
   ],
   "outputs": [],
   "execution_count": 2
  },
  {
   "cell_type": "code",
   "id": "30461af4fc9db79c",
   "metadata": {
    "ExecuteTime": {
     "end_time": "2024-12-17T13:47:40.479795Z",
     "start_time": "2024-12-17T13:47:36.802010Z"
    }
   },
   "source": [
    "# Проверка работы\n",
    "\n",
    "from mla.basic import Dense, Activation, Dropout\n",
    "from mla.parameters import Parameters\n",
    "from mla.constraints import MaxNorm\n",
    "from mla.regularizers import L2\n",
    "from mla.optimizers import Adadelta\n",
    "from mla.utils import one_hot\n",
    "\n",
    "from sklearn.metrics import roc_auc_score\n",
    "\n",
    "y_train_onehot = one_hot(y_train)\n",
    "y_test_onehot = one_hot(y_test)\n",
    "\n",
    "model = NeuralNet(\n",
    "    layers=[\n",
    "        Dense(256, Parameters(init=\"uniform\", regularizers={\"W\": L2(0.05)})),\n",
    "        Activation(\"relu\"),\n",
    "        Dropout(0.5),\n",
    "        Dense(128, Parameters(init=\"normal\", constraints={\"W\": MaxNorm()})),\n",
    "        Activation(\"relu\"),\n",
    "        Dense(2),\n",
    "        Activation(\"softmax\"),\n",
    "    ],\n",
    "    loss=\"categorical_crossentropy\",\n",
    "    optimizer=Adadelta(),\n",
    "    metric=\"accuracy\",\n",
    "    batch_size=64,\n",
    "    max_epochs=25,\n",
    ")\n",
    "model.fit(X_train, y_train_onehot)\n",
    "predictions = model.predict(X_test)"
   ],
   "outputs": [
    {
     "name": "stdout",
     "output_type": "stream",
     "text": [
      "Epoch 1/25, Loss: 8.2853\n",
      "Epoch 2/25, Loss: 8.3883\n",
      "Epoch 3/25, Loss: 8.1927\n",
      "Epoch 4/25, Loss: 8.1811\n",
      "Epoch 5/25, Loss: 8.3791\n",
      "Epoch 6/25, Loss: 8.2780\n",
      "Epoch 7/25, Loss: 8.3258\n",
      "Epoch 8/25, Loss: 8.3585\n",
      "Epoch 9/25, Loss: 8.2855\n",
      "Epoch 10/25, Loss: 8.1564\n",
      "Epoch 11/25, Loss: 8.1312\n",
      "Epoch 12/25, Loss: 8.0774\n",
      "Epoch 13/25, Loss: 8.0704\n",
      "Epoch 14/25, Loss: 8.0289\n",
      "Epoch 15/25, Loss: 8.2610\n",
      "Epoch 16/25, Loss: 8.4146\n",
      "Epoch 17/25, Loss: 8.2439\n",
      "Epoch 18/25, Loss: 8.2588\n",
      "Epoch 19/25, Loss: 8.2717\n",
      "Epoch 20/25, Loss: 8.2711\n",
      "Epoch 21/25, Loss: 8.2964\n",
      "Epoch 22/25, Loss: 8.2981\n",
      "Epoch 23/25, Loss: 8.3005\n",
      "Epoch 24/25, Loss: 8.1748\n",
      "Epoch 25/25, Loss: 8.2063\n"
     ]
    }
   ],
   "execution_count": 20
  },
  {
   "metadata": {
    "ExecuteTime": {
     "end_time": "2024-12-17T13:47:41.770610Z",
     "start_time": "2024-12-17T13:47:41.764935Z"
    }
   },
   "cell_type": "code",
   "source": "roc_auc_score(y_test_onehot[:, 0], predictions[:, 0])",
   "id": "3f5069b214531c9b",
   "outputs": [
    {
     "data": {
      "text/plain": [
       "0.5165432098765432"
      ]
     },
     "execution_count": 21,
     "metadata": {},
     "output_type": "execute_result"
    }
   ],
   "execution_count": 21
  },
  {
   "metadata": {
    "ExecuteTime": {
     "end_time": "2024-12-17T13:42:47.323316Z",
     "start_time": "2024-12-17T13:42:47.310683Z"
    }
   },
   "cell_type": "code",
   "source": "assert roc_auc_score(y_test_onehot[:, 0], predictions[:, 0]) >= 0.95",
   "id": "eaf62fdac047dedc",
   "outputs": [
    {
     "ename": "AssertionError",
     "evalue": "",
     "output_type": "error",
     "traceback": [
      "\u001B[1;31m---------------------------------------------------------------------------\u001B[0m",
      "\u001B[1;31mAssertionError\u001B[0m                            Traceback (most recent call last)",
      "Cell \u001B[1;32mIn[11], line 1\u001B[0m\n\u001B[1;32m----> 1\u001B[0m \u001B[38;5;28;01massert\u001B[39;00m roc_auc_score(y_test_onehot[:, \u001B[38;5;241m0\u001B[39m], predictions[:, \u001B[38;5;241m0\u001B[39m]) \u001B[38;5;241m>\u001B[39m\u001B[38;5;241m=\u001B[39m \u001B[38;5;241m0.95\u001B[39m\n",
      "\u001B[1;31mAssertionError\u001B[0m: "
     ]
    }
   ],
   "execution_count": 11
  },
  {
   "cell_type": "code",
   "id": "6e5a2f1265823fdc",
   "metadata": {
    "ExecuteTime": {
     "end_time": "2024-12-17T13:42:48.072495Z",
     "start_time": "2024-12-17T13:42:48.056274Z"
    }
   },
   "source": [
    "# Свой датасет будет позже\n",
    "assert roc_auc_score(y_test_onehot[:, 0], predictions[:, 0]) >= 0.8"
   ],
   "outputs": [
    {
     "ename": "AssertionError",
     "evalue": "",
     "output_type": "error",
     "traceback": [
      "\u001B[1;31m---------------------------------------------------------------------------\u001B[0m",
      "\u001B[1;31mAssertionError\u001B[0m                            Traceback (most recent call last)",
      "Cell \u001B[1;32mIn[12], line 2\u001B[0m\n\u001B[0;32m      1\u001B[0m \u001B[38;5;66;03m# Свой датасет\u001B[39;00m\n\u001B[1;32m----> 2\u001B[0m \u001B[38;5;28;01massert\u001B[39;00m roc_auc_score(y_test_onehot[:, \u001B[38;5;241m0\u001B[39m], predictions[:, \u001B[38;5;241m0\u001B[39m]) \u001B[38;5;241m>\u001B[39m\u001B[38;5;241m=\u001B[39m \u001B[38;5;241m0.8\u001B[39m\n",
      "\u001B[1;31mAssertionError\u001B[0m: "
     ]
    }
   ],
   "execution_count": 12
  }
 ],
 "metadata": {
  "kernelspec": {
   "display_name": "Python 3",
   "language": "python",
   "name": "python3"
  },
  "language_info": {
   "codemirror_mode": {
    "name": "ipython",
    "version": 3
   },
   "file_extension": ".py",
   "mimetype": "text/x-python",
   "name": "python",
   "nbconvert_exporter": "python",
   "pygments_lexer": "ipython3",
   "version": "3.13.1"
  }
 },
 "nbformat": 4,
 "nbformat_minor": 5
}
